{
 "cells": [
  {
   "cell_type": "code",
   "execution_count": 1,
   "id": "f1f8f29a-8caa-44b6-9019-ed6ac62680a3",
   "metadata": {},
   "outputs": [],
   "source": [
    "import pandas as pd\n",
    "import plotly as ply\n",
    "import plotly.graph_objects as go"
   ]
  },
  {
   "cell_type": "markdown",
   "id": "e23f194e-f78c-41b9-aa56-335dd82e3abb",
   "metadata": {},
   "source": [
    "<h2>Usage</h2>\n",
    "<p>\n",
    "generatePlot( past_csv, predictions_csv, future_csv=None, show=[1,1,1], name=\"plot.html\",title='Predicted sale')\n",
    "<br>\n",
    "    \n",
    "past_csv <- plik csv - past || timestamp, units <br>\n",
    "predictions_csv <- plik csv - models || timestamp, units1, units2 <br>\n",
    "future_csv <- plik csv - future opcjonalny || timestamp,units - jeśli nie podany to wektor domyślnie ma 0<br>\n",
    "show <- wektor [0,1,0] - pokaż predykcje modelu 1, predykcje modelu 2,przyszłe predykcje - domyślny<br>\n",
    "name <- nazwa pliku docelowego z wygenerowanym wykresem<br>\n",
    "title <- tytuł wykresu</p>"
   ]
  },
  {
   "cell_type": "code",
   "execution_count": 10,
   "id": "e054f3c3-c94e-4962-b940-2eeea6fcc3f9",
   "metadata": {},
   "outputs": [],
   "source": [
    "def plotGiven(name,title,past_p,avaliable,*args):\n",
    "    #avaliable=[pred1_p, pred2_p,future_p]\n",
    "    show_vec=[past_p];\n",
    "    for ix, val in enumerate(args):\n",
    "        if val==1: show_vec.append(avaliable[ix])\n",
    "\n",
    " #   for trace in show_vec:\n",
    "  #      trace.update(hovertemplate='<b>Date:</b> %{x}<br><b>Sold Items:</b> %{y}<extra></extra>')\n",
    "    fig = go.Figure(data=show_vec)\n",
    "    fig.update_layout(\n",
    "    title=title,\n",
    "    xaxis_title='Date',\n",
    "    yaxis_title='Sold items')\n",
    "    fig.update_layout(title=dict(font=dict(size=40),xanchor='center'),title_x=0.5,font=dict(\n",
    "        family=\"Courier New, monospace\",\n",
    "        size=18,\n",
    "        color=\"RebeccaPurple\"\n",
    "    ))\n",
    "    fig.show()\n",
    "    fig.write_html(name)"
   ]
  },
  {
   "cell_type": "code",
   "execution_count": 11,
   "id": "4bea44d3-2ab3-433c-9417-c3b606d4f9a0",
   "metadata": {},
   "outputs": [],
   "source": [
    "def generatePlot( past_csv, predictions_csv, future_csv=False, show=[1,1,1], name=\"plot.html\",title='Predicted sale'):\n",
    "    past = pd.read_csv(past_csv);\n",
    "    preds = pd.read_csv(predictions_csv);\n",
    "        \n",
    "    pred1_p = go.Scatter(x=preds['date'], y=preds['unit_sales_x'], mode='lines', name='Predykcja modelu 1', line=dict(color=\"#1e6abf\"),\n",
    "                        hovertemplate='<b>Date:</b> %{x}<br><b>Sold Items:</b> %{y}<extra></extra>')\n",
    "    pred2_p = go.Scatter(x=preds['date'], y=preds['unit_sales_y'], mode='lines', name='Predykcja modelu 2', line=dict(color=\"#ac1ebf\"),\n",
    "                        hovertemplate='<b>Date:</b> %{x}<br><b>Sold Items:</b> %{y}<extra></extra>')\n",
    "    past_p = go.Scatter(x=past['date'], y=past['unit_sales'], mode='lines', name='Przeszłość', line=dict(color=\"#19ae55\"),\n",
    "                       hovertemplate='<b>Date:</b> %{x}<br><b>Sold Items:</b> %{y}<extra></extra>')\n",
    "\n",
    "    if (future_csv is not False): \n",
    "        future_t = pd.read_csv(future_csv)\n",
    "        future_p = go.Scatter(x=future_t['date'], y=future_t['unit_sales'], mode='lines', name='Faktyczne wyniki', line=dict(color=\"#aedf2b\"))\n",
    "        plotGiven(name,[pred1_p,pred2_p,future_p],*show)\n",
    "    else: \n",
    "        show[2]=0\n",
    "        plotGiven(name,title,past_p,[pred1_p,pred2_p,0],*show)"
   ]
  },
  {
   "cell_type": "code",
   "execution_count": null,
   "id": "36f5eb6b-a0e1-4c8e-8ade-9c777b09e1f3",
   "metadata": {},
   "outputs": [],
   "source": []
  },
  {
   "cell_type": "code",
   "execution_count": 14,
   "id": "a995f67c-8bc4-47ed-9e88-58dd861366f2",
   "metadata": {},
   "outputs": [
    {
     "ename": "ValueError",
     "evalue": "\n    Invalid element(s) received for the 'data' property of \n        Invalid elements include: [1]\n\n    The 'data' property is a tuple of trace instances\n    that may be specified as:\n      - A list or tuple of trace instances\n        (e.g. [Scatter(...), Bar(...)])\n      - A single trace instance\n        (e.g. Scatter(...), Bar(...), etc.)\n      - A list or tuple of dicts of string/value properties where:\n        - The 'type' property specifies the trace type\n            One of: ['bar', 'barpolar', 'box', 'candlestick',\n                     'carpet', 'choropleth', 'choroplethmap',\n                     'choroplethmapbox', 'cone', 'contour',\n                     'contourcarpet', 'densitymap',\n                     'densitymapbox', 'funnel', 'funnelarea',\n                     'heatmap', 'heatmapgl', 'histogram',\n                     'histogram2d', 'histogram2dcontour', 'icicle',\n                     'image', 'indicator', 'isosurface', 'mesh3d',\n                     'ohlc', 'parcats', 'parcoords', 'pie',\n                     'pointcloud', 'sankey', 'scatter',\n                     'scatter3d', 'scattercarpet', 'scattergeo',\n                     'scattergl', 'scattermap', 'scattermapbox',\n                     'scatterpolar', 'scatterpolargl',\n                     'scattersmith', 'scatterternary', 'splom',\n                     'streamtube', 'sunburst', 'surface', 'table',\n                     'treemap', 'violin', 'volume', 'waterfall']\n\n        - All remaining properties are passed to the constructor of\n          the specified trace type\n\n        (e.g. [{'type': 'scatter', ...}, {'type': 'bar, ...}])",
     "output_type": "error",
     "traceback": [
      "\u001b[0;31m---------------------------------------------------------------------------\u001b[0m",
      "\u001b[0;31mValueError\u001b[0m                                Traceback (most recent call last)",
      "Cell \u001b[0;32mIn [14], line 1\u001b[0m\n\u001b[0;32m----> 1\u001b[0m \u001b[43mgeneratePlot\u001b[49m\u001b[43m(\u001b[49m\u001b[38;5;124;43m'\u001b[39;49m\u001b[38;5;124;43mpast_serie.csv\u001b[39;49m\u001b[38;5;124;43m'\u001b[39;49m\u001b[43m,\u001b[49m\u001b[38;5;124;43m'\u001b[39;49m\u001b[38;5;124;43mpreds.csv\u001b[39;49m\u001b[38;5;124;43m'\u001b[39;49m\u001b[43m,\u001b[49m\u001b[38;5;124;43m'\u001b[39;49m\u001b[38;5;124;43mfuture_serie.csv\u001b[39;49m\u001b[38;5;124;43m'\u001b[39;49m\u001b[43m,\u001b[49m\u001b[43mshow\u001b[49m\u001b[38;5;241;43m=\u001b[39;49m\u001b[43m[\u001b[49m\u001b[38;5;241;43m1\u001b[39;49m\u001b[43m,\u001b[49m\u001b[38;5;241;43m1\u001b[39;49m\u001b[43m,\u001b[49m\u001b[38;5;241;43m0\u001b[39;49m\u001b[43m]\u001b[49m\u001b[43m,\u001b[49m\u001b[43mname\u001b[49m\u001b[38;5;241;43m=\u001b[39;49m\u001b[38;5;124;43m\"\u001b[39;49m\u001b[38;5;124;43msample.html\u001b[39;49m\u001b[38;5;124;43m\"\u001b[39;49m\u001b[43m,\u001b[49m\u001b[43mtitle\u001b[49m\u001b[38;5;241;43m=\u001b[39;49m\u001b[38;5;124;43m\"\u001b[39;49m\u001b[38;5;124;43mabc\u001b[39;49m\u001b[38;5;124;43m\"\u001b[39;49m\u001b[43m)\u001b[49m\n",
      "Cell \u001b[0;32mIn [11], line 15\u001b[0m, in \u001b[0;36mgeneratePlot\u001b[0;34m(past_csv, predictions_csv, future_csv, show, name, title)\u001b[0m\n\u001b[1;32m     13\u001b[0m     future_t \u001b[38;5;241m=\u001b[39m pd\u001b[38;5;241m.\u001b[39mread_csv(future_csv)\n\u001b[1;32m     14\u001b[0m     future_p \u001b[38;5;241m=\u001b[39m go\u001b[38;5;241m.\u001b[39mScatter(x\u001b[38;5;241m=\u001b[39mfuture_t[\u001b[38;5;124m'\u001b[39m\u001b[38;5;124mdate\u001b[39m\u001b[38;5;124m'\u001b[39m], y\u001b[38;5;241m=\u001b[39mfuture_t[\u001b[38;5;124m'\u001b[39m\u001b[38;5;124munit_sales\u001b[39m\u001b[38;5;124m'\u001b[39m], mode\u001b[38;5;241m=\u001b[39m\u001b[38;5;124m'\u001b[39m\u001b[38;5;124mlines\u001b[39m\u001b[38;5;124m'\u001b[39m, name\u001b[38;5;241m=\u001b[39m\u001b[38;5;124m'\u001b[39m\u001b[38;5;124mFaktyczne wyniki\u001b[39m\u001b[38;5;124m'\u001b[39m, line\u001b[38;5;241m=\u001b[39m\u001b[38;5;28mdict\u001b[39m(color\u001b[38;5;241m=\u001b[39m\u001b[38;5;124m\"\u001b[39m\u001b[38;5;124m#aedf2b\u001b[39m\u001b[38;5;124m\"\u001b[39m))\n\u001b[0;32m---> 15\u001b[0m     \u001b[43mplotGiven\u001b[49m\u001b[43m(\u001b[49m\u001b[43mname\u001b[49m\u001b[43m,\u001b[49m\u001b[43m[\u001b[49m\u001b[43mpred1_p\u001b[49m\u001b[43m,\u001b[49m\u001b[43mpred2_p\u001b[49m\u001b[43m,\u001b[49m\u001b[43mfuture_p\u001b[49m\u001b[43m]\u001b[49m\u001b[43m,\u001b[49m\u001b[38;5;241;43m*\u001b[39;49m\u001b[43mshow\u001b[49m\u001b[43m)\u001b[49m\n\u001b[1;32m     16\u001b[0m \u001b[38;5;28;01melse\u001b[39;00m: \n\u001b[1;32m     17\u001b[0m     show[\u001b[38;5;241m2\u001b[39m]\u001b[38;5;241m=\u001b[39m\u001b[38;5;241m0\u001b[39m\n",
      "Cell \u001b[0;32mIn [10], line 9\u001b[0m, in \u001b[0;36mplotGiven\u001b[0;34m(name, title, past_p, avaliable, *args)\u001b[0m\n\u001b[1;32m      5\u001b[0m        \u001b[38;5;28;01mif\u001b[39;00m val\u001b[38;5;241m==\u001b[39m\u001b[38;5;241m1\u001b[39m: show_vec\u001b[38;5;241m.\u001b[39mappend(avaliable[ix])\n\u001b[1;32m      7\u001b[0m \u001b[38;5;66;03m#   for trace in show_vec:\u001b[39;00m\n\u001b[1;32m      8\u001b[0m  \u001b[38;5;66;03m#      trace.update(hovertemplate='<b>Date:</b> %{x}<br><b>Sold Items:</b> %{y}<extra></extra>')\u001b[39;00m\n\u001b[0;32m----> 9\u001b[0m    fig \u001b[38;5;241m=\u001b[39m \u001b[43mgo\u001b[49m\u001b[38;5;241;43m.\u001b[39;49m\u001b[43mFigure\u001b[49m\u001b[43m(\u001b[49m\u001b[43mdata\u001b[49m\u001b[38;5;241;43m=\u001b[39;49m\u001b[43mshow_vec\u001b[49m\u001b[43m)\u001b[49m\n\u001b[1;32m     10\u001b[0m    fig\u001b[38;5;241m.\u001b[39mupdate_layout(\n\u001b[1;32m     11\u001b[0m    title\u001b[38;5;241m=\u001b[39mtitle,\n\u001b[1;32m     12\u001b[0m    xaxis_title\u001b[38;5;241m=\u001b[39m\u001b[38;5;124m'\u001b[39m\u001b[38;5;124mDate\u001b[39m\u001b[38;5;124m'\u001b[39m,\n\u001b[1;32m     13\u001b[0m    yaxis_title\u001b[38;5;241m=\u001b[39m\u001b[38;5;124m'\u001b[39m\u001b[38;5;124mSold items\u001b[39m\u001b[38;5;124m'\u001b[39m)\n\u001b[1;32m     14\u001b[0m    fig\u001b[38;5;241m.\u001b[39mupdate_layout(title\u001b[38;5;241m=\u001b[39m\u001b[38;5;28mdict\u001b[39m(font\u001b[38;5;241m=\u001b[39m\u001b[38;5;28mdict\u001b[39m(size\u001b[38;5;241m=\u001b[39m\u001b[38;5;241m40\u001b[39m),xanchor\u001b[38;5;241m=\u001b[39m\u001b[38;5;124m'\u001b[39m\u001b[38;5;124mcenter\u001b[39m\u001b[38;5;124m'\u001b[39m),title_x\u001b[38;5;241m=\u001b[39m\u001b[38;5;241m0.5\u001b[39m,font\u001b[38;5;241m=\u001b[39m\u001b[38;5;28mdict\u001b[39m(\n\u001b[1;32m     15\u001b[0m        family\u001b[38;5;241m=\u001b[39m\u001b[38;5;124m\"\u001b[39m\u001b[38;5;124mCourier New, monospace\u001b[39m\u001b[38;5;124m\"\u001b[39m,\n\u001b[1;32m     16\u001b[0m        size\u001b[38;5;241m=\u001b[39m\u001b[38;5;241m18\u001b[39m,\n\u001b[1;32m     17\u001b[0m        color\u001b[38;5;241m=\u001b[39m\u001b[38;5;124m\"\u001b[39m\u001b[38;5;124mRebeccaPurple\u001b[39m\u001b[38;5;124m\"\u001b[39m\n\u001b[1;32m     18\u001b[0m    ))\n",
      "File \u001b[0;32m~/.local/lib/python3.11/site-packages/plotly/graph_objs/_figure.py:646\u001b[0m, in \u001b[0;36mFigure.__init__\u001b[0;34m(self, data, layout, frames, skip_invalid, **kwargs)\u001b[0m\n\u001b[1;32m      5\u001b[0m \u001b[38;5;28;01mdef\u001b[39;00m \u001b[38;5;21m__init__\u001b[39m(\n\u001b[1;32m      6\u001b[0m     \u001b[38;5;28mself\u001b[39m, data\u001b[38;5;241m=\u001b[39m\u001b[38;5;28;01mNone\u001b[39;00m, layout\u001b[38;5;241m=\u001b[39m\u001b[38;5;28;01mNone\u001b[39;00m, frames\u001b[38;5;241m=\u001b[39m\u001b[38;5;28;01mNone\u001b[39;00m, skip_invalid\u001b[38;5;241m=\u001b[39m\u001b[38;5;28;01mFalse\u001b[39;00m, \u001b[38;5;241m*\u001b[39m\u001b[38;5;241m*\u001b[39mkwargs\n\u001b[1;32m      7\u001b[0m ):\n\u001b[1;32m      8\u001b[0m \u001b[38;5;250m    \u001b[39m\u001b[38;5;124;03m\"\"\"\u001b[39;00m\n\u001b[1;32m      9\u001b[0m \u001b[38;5;124;03m    Create a new :class:Figure instance\u001b[39;00m\n\u001b[1;32m     10\u001b[0m \n\u001b[0;32m   (...)\u001b[0m\n\u001b[1;32m    644\u001b[0m \u001b[38;5;124;03m        is invalid AND skip_invalid is False\u001b[39;00m\n\u001b[1;32m    645\u001b[0m \u001b[38;5;124;03m    \"\"\"\u001b[39;00m\n\u001b[0;32m--> 646\u001b[0m     \u001b[38;5;28;43msuper\u001b[39;49m\u001b[43m(\u001b[49m\u001b[43mFigure\u001b[49m\u001b[43m,\u001b[49m\u001b[43m \u001b[49m\u001b[38;5;28;43mself\u001b[39;49m\u001b[43m)\u001b[49m\u001b[38;5;241;43m.\u001b[39;49m\u001b[38;5;21;43m__init__\u001b[39;49m\u001b[43m(\u001b[49m\u001b[43mdata\u001b[49m\u001b[43m,\u001b[49m\u001b[43m \u001b[49m\u001b[43mlayout\u001b[49m\u001b[43m,\u001b[49m\u001b[43m \u001b[49m\u001b[43mframes\u001b[49m\u001b[43m,\u001b[49m\u001b[43m \u001b[49m\u001b[43mskip_invalid\u001b[49m\u001b[43m,\u001b[49m\u001b[43m \u001b[49m\u001b[38;5;241;43m*\u001b[39;49m\u001b[38;5;241;43m*\u001b[39;49m\u001b[43mkwargs\u001b[49m\u001b[43m)\u001b[49m\n",
      "File \u001b[0;32m~/.local/lib/python3.11/site-packages/plotly/basedatatypes.py:512\u001b[0m, in \u001b[0;36mBaseFigure.__init__\u001b[0;34m(self, data, layout_plotly, frames, skip_invalid, **kwargs)\u001b[0m\n\u001b[1;32m    509\u001b[0m \u001b[38;5;28mself\u001b[39m\u001b[38;5;241m.\u001b[39m_data_validator \u001b[38;5;241m=\u001b[39m DataValidator(set_uid\u001b[38;5;241m=\u001b[39m\u001b[38;5;28mself\u001b[39m\u001b[38;5;241m.\u001b[39m_set_trace_uid)\n\u001b[1;32m    511\u001b[0m \u001b[38;5;66;03m# ### Import traces ###\u001b[39;00m\n\u001b[0;32m--> 512\u001b[0m data \u001b[38;5;241m=\u001b[39m \u001b[38;5;28;43mself\u001b[39;49m\u001b[38;5;241;43m.\u001b[39;49m\u001b[43m_data_validator\u001b[49m\u001b[38;5;241;43m.\u001b[39;49m\u001b[43mvalidate_coerce\u001b[49m\u001b[43m(\u001b[49m\n\u001b[1;32m    513\u001b[0m \u001b[43m    \u001b[49m\u001b[43mdata\u001b[49m\u001b[43m,\u001b[49m\u001b[43m \u001b[49m\u001b[43mskip_invalid\u001b[49m\u001b[38;5;241;43m=\u001b[39;49m\u001b[43mskip_invalid\u001b[49m\u001b[43m,\u001b[49m\u001b[43m \u001b[49m\u001b[43m_validate\u001b[49m\u001b[38;5;241;43m=\u001b[39;49m\u001b[38;5;28;43mself\u001b[39;49m\u001b[38;5;241;43m.\u001b[39;49m\u001b[43m_validate\u001b[49m\n\u001b[1;32m    514\u001b[0m \u001b[43m\u001b[49m\u001b[43m)\u001b[49m\n\u001b[1;32m    516\u001b[0m \u001b[38;5;66;03m# ### Save tuple of trace objects ###\u001b[39;00m\n\u001b[1;32m    517\u001b[0m \u001b[38;5;28mself\u001b[39m\u001b[38;5;241m.\u001b[39m_data_objs \u001b[38;5;241m=\u001b[39m data\n",
      "File \u001b[0;32m~/.local/lib/python3.11/site-packages/_plotly_utils/basevalidators.py:2739\u001b[0m, in \u001b[0;36mBaseDataValidator.validate_coerce\u001b[0;34m(self, v, skip_invalid, _validate)\u001b[0m\n\u001b[1;32m   2736\u001b[0m             invalid_els\u001b[38;5;241m.\u001b[39mappend(v_el)\n\u001b[1;32m   2738\u001b[0m \u001b[38;5;28;01mif\u001b[39;00m invalid_els:\n\u001b[0;32m-> 2739\u001b[0m     \u001b[38;5;28;43mself\u001b[39;49m\u001b[38;5;241;43m.\u001b[39;49m\u001b[43mraise_invalid_elements\u001b[49m\u001b[43m(\u001b[49m\u001b[43minvalid_els\u001b[49m\u001b[43m)\u001b[49m\n\u001b[1;32m   2741\u001b[0m v \u001b[38;5;241m=\u001b[39m to_scalar_or_list(res)\n\u001b[1;32m   2743\u001b[0m \u001b[38;5;66;03m# Set new UIDs\u001b[39;00m\n",
      "File \u001b[0;32m~/.local/lib/python3.11/site-packages/_plotly_utils/basevalidators.py:312\u001b[0m, in \u001b[0;36mBaseValidator.raise_invalid_elements\u001b[0;34m(self, invalid_els)\u001b[0m\n\u001b[1;32m    310\u001b[0m     \u001b[38;5;28;01mdef\u001b[39;00m \u001b[38;5;21mraise_invalid_elements\u001b[39m(\u001b[38;5;28mself\u001b[39m, invalid_els):\n\u001b[1;32m    311\u001b[0m         \u001b[38;5;28;01mif\u001b[39;00m invalid_els:\n\u001b[0;32m--> 312\u001b[0m             \u001b[38;5;28;01mraise\u001b[39;00m \u001b[38;5;167;01mValueError\u001b[39;00m(\n\u001b[1;32m    313\u001b[0m \u001b[38;5;250m                \u001b[39m\u001b[38;5;124;03m\"\"\"\u001b[39;00m\n\u001b[1;32m    314\u001b[0m \u001b[38;5;124;03m    Invalid element(s) received for the '{name}' property of {pname}\u001b[39;00m\n\u001b[1;32m    315\u001b[0m \u001b[38;5;124;03m        Invalid elements include: {invalid}\u001b[39;00m\n\u001b[1;32m    316\u001b[0m \n\u001b[1;32m    317\u001b[0m \u001b[38;5;124;03m{valid_clr_desc}\"\"\"\u001b[39;00m\u001b[38;5;241m.\u001b[39mformat(\n\u001b[1;32m    318\u001b[0m                     name\u001b[38;5;241m=\u001b[39m\u001b[38;5;28mself\u001b[39m\u001b[38;5;241m.\u001b[39mplotly_name,\n\u001b[1;32m    319\u001b[0m                     pname\u001b[38;5;241m=\u001b[39m\u001b[38;5;28mself\u001b[39m\u001b[38;5;241m.\u001b[39mparent_name,\n\u001b[1;32m    320\u001b[0m                     invalid\u001b[38;5;241m=\u001b[39minvalid_els[:\u001b[38;5;241m10\u001b[39m],\n\u001b[1;32m    321\u001b[0m                     valid_clr_desc\u001b[38;5;241m=\u001b[39m\u001b[38;5;28mself\u001b[39m\u001b[38;5;241m.\u001b[39mdescription(),\n\u001b[1;32m    322\u001b[0m                 )\n\u001b[1;32m    323\u001b[0m             )\n",
      "\u001b[0;31mValueError\u001b[0m: \n    Invalid element(s) received for the 'data' property of \n        Invalid elements include: [1]\n\n    The 'data' property is a tuple of trace instances\n    that may be specified as:\n      - A list or tuple of trace instances\n        (e.g. [Scatter(...), Bar(...)])\n      - A single trace instance\n        (e.g. Scatter(...), Bar(...), etc.)\n      - A list or tuple of dicts of string/value properties where:\n        - The 'type' property specifies the trace type\n            One of: ['bar', 'barpolar', 'box', 'candlestick',\n                     'carpet', 'choropleth', 'choroplethmap',\n                     'choroplethmapbox', 'cone', 'contour',\n                     'contourcarpet', 'densitymap',\n                     'densitymapbox', 'funnel', 'funnelarea',\n                     'heatmap', 'heatmapgl', 'histogram',\n                     'histogram2d', 'histogram2dcontour', 'icicle',\n                     'image', 'indicator', 'isosurface', 'mesh3d',\n                     'ohlc', 'parcats', 'parcoords', 'pie',\n                     'pointcloud', 'sankey', 'scatter',\n                     'scatter3d', 'scattercarpet', 'scattergeo',\n                     'scattergl', 'scattermap', 'scattermapbox',\n                     'scatterpolar', 'scatterpolargl',\n                     'scattersmith', 'scatterternary', 'splom',\n                     'streamtube', 'sunburst', 'surface', 'table',\n                     'treemap', 'violin', 'volume', 'waterfall']\n\n        - All remaining properties are passed to the constructor of\n          the specified trace type\n\n        (e.g. [{'type': 'scatter', ...}, {'type': 'bar, ...}])"
     ]
    }
   ],
   "source": [
    "generatePlot('past_serie.csv','preds.csv','future_serie.csv',show=[1,1,0],name=\"sample.html\",title=\"abc\")"
   ]
  },
  {
   "cell_type": "code",
   "execution_count": null,
   "id": "c76e2810-3363-4396-ada4-af640c7183b6",
   "metadata": {},
   "outputs": [],
   "source": []
  }
 ],
 "metadata": {
  "kernelspec": {
   "display_name": "Python 3 (ipykernel)",
   "language": "python",
   "name": "python3"
  },
  "language_info": {
   "codemirror_mode": {
    "name": "ipython",
    "version": 3
   },
   "file_extension": ".py",
   "mimetype": "text/x-python",
   "name": "python",
   "nbconvert_exporter": "python",
   "pygments_lexer": "ipython3",
   "version": "3.11.2"
  }
 },
 "nbformat": 4,
 "nbformat_minor": 5
}
